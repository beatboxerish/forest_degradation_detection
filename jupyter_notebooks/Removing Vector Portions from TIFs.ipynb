{
 "cells": [
  {
   "cell_type": "markdown",
   "id": "1920ab03",
   "metadata": {},
   "source": [
    "This notebook helps us remove all regions were a particular degradation indicator is present from a given raster. For our particular use case, we needed to remove the 'Distorted' regions from all our orthomosaic for satellite processing."
   ]
  },
  {
   "cell_type": "code",
   "execution_count": 1,
   "id": "4c13d29a",
   "metadata": {},
   "outputs": [],
   "source": [
    "import os\n",
    "import rasterio\n",
    "import json\n",
    "from rasterio import mask\n",
    "import matplotlib.pyplot as plt\n",
    "import fiona\n",
    "import geopandas as gpd\n",
    "from rasterio import merge"
   ]
  },
  {
   "cell_type": "code",
   "execution_count": 2,
   "id": "06b1a869",
   "metadata": {},
   "outputs": [],
   "source": [
    "def read_tif(path):\n",
    "    dataset = rasterio.open(path)\n",
    "    return dataset\n",
    "\n",
    "def find_and_read_geojson(folder):\n",
    "    file = os.path.join(folder, 'Distorted Image.geojson')\n",
    "    output = read_geojson(file)\n",
    "    return output\n",
    "\n",
    "def remove_geojsons_from_base_tif(base, geojson_address):\n",
    "    # convert to shape file\n",
    "    gdf = gpd.read_file(geojson_address)\n",
    "    gdf.to_file('del_this.shp')\n",
    "    \n",
    "    # read shape file and apply mask transformation\n",
    "    with fiona.open(\"del_this.shp\", \"r\") as shapefile:\n",
    "        shapes = [feature[\"geometry\"] for feature in shapefile]\n",
    "    out_image, out_transform = mask.mask(base, shapes, invert=True)\n",
    "    out_meta = base.meta\n",
    "    out_meta.update({\"transform\": out_transform})\n",
    "\n",
    "    return out_image, out_meta\n",
    "\n",
    "def save_tif(save_loc, out_image, out_meta):\n",
    "    with rasterio.open(save_loc, \"w\", **out_meta) as dest:\n",
    "        dest.write(out_image)"
   ]
  },
  {
   "cell_type": "code",
   "execution_count": 3,
   "id": "306f094e",
   "metadata": {},
   "outputs": [],
   "source": [
    "base_address = '/Users/ishannangia/Desktop/TfW/tifs and labels'"
   ]
  },
  {
   "cell_type": "markdown",
   "id": "3c901e09",
   "metadata": {},
   "source": [
    "Run for all below sites"
   ]
  },
  {
   "cell_type": "code",
   "execution_count": 4,
   "id": "25b0d93f",
   "metadata": {},
   "outputs": [],
   "source": [
    "sites = [\"burntSite\", \"restorationSite\", \"chromoStrobeSite\", \"plantationSite\"]\n",
    "\n",
    "for site in sites:  # go into different sites\n",
    "\n",
    "    # read a particular tiff\n",
    "    site_tif_path = os.path.join(base_address, site + '.tif')\n",
    "    site_tif = read_tif(site_tif_path)\n",
    "    \n",
    "    # remove all areas using a particular geojson file\n",
    "    site_folder = os.path.join(base_address, site + '_tifs')\n",
    "    geojson_file = os.path.join(site_folder, 'Distorted Image.geojson')\n",
    "    new_site_image, new_site_meta = remove_geojsons_from_base_tif(site_tif, geojson_file)\n",
    "    \n",
    "    # save new tiff\n",
    "    save_tif(os.path.join(base_address, f\"all_dis_{site}.tif\"), new_site_image, new_site_meta)"
   ]
  },
  {
   "cell_type": "markdown",
   "id": "42584ca7",
   "metadata": {},
   "source": [
    "For Predicted DIs\n",
    "\n",
    "Here, the second block of code is similar to the above code. However, the first block of code creates a new tif file by combining different tifs. This is used in the second block of code. So run this first one only once."
   ]
  },
  {
   "cell_type": "code",
   "execution_count": 111,
   "id": "40119072",
   "metadata": {},
   "outputs": [],
   "source": [
    "# merge tifs together: if you already have this tif created then no need to run it again\n",
    "\n",
    "# defining the tifs of the sites you want to join\n",
    "sites = [\"burntSite\", \"restorationSite\", \"chromoStrobeSite\", \"plantationSite\", 'dryDeciduousSite']\n",
    "\n",
    "# collecting all tif files\n",
    "base_address = '/Users/ishannangia/Desktop/TfW/tifs and labels'\n",
    "site_tifs = []\n",
    "for site in sites:\n",
    "    site_tifs.append(rasterio.open(os.path.join(base_address, \"new_\" + site + '.tif')))\n",
    "    \n",
    "# creating new merged tif with meta dictionary\n",
    "output_array, output_transform = merge.merge(site_tifs)\n",
    "out_meta = site_tifs[0].meta\n",
    "out_meta.update({\"transform\": output_transform, 'width':output_array.shape[2], 'height':output_array.shape[1]})\n",
    "\n",
    "# saving new tif\n",
    "save_tif(os.path.join(base_address, f\"new_all_tifs_combined.tif\"), output_array, out_meta)"
   ]
  },
  {
   "cell_type": "code",
   "execution_count": 121,
   "id": "255779d5",
   "metadata": {},
   "outputs": [],
   "source": [
    "# read a particular tiff\n",
    "base_tif_path = '/Users/ishannangia/Desktop/TfW/tifs and labels/tifs_combined_wo_true_degradation.tif'\n",
    "tif = read_tif(base_tif_path)\n",
    "\n",
    "# read a particular geojson\n",
    "base_address = '/Users/ishannangia/Desktop/three_dis_labelme_files'\n",
    "geojson_file = os.path.join(base_address, 'Distorted Image.geojson')\n",
    "\n",
    "# remove all vectors from the tif\n",
    "new_image, new_meta = remove_geojsons_from_base_tif(tif, geojson_file)\n",
    "\n",
    "# save new tif\n",
    "save_tif(os.path.join(base_address, f\"three_true_and_pred_dis_base_raster.tif\"), new_image, new_meta)"
   ]
  }
 ],
 "metadata": {
  "kernelspec": {
   "display_name": "Python (satImagery)",
   "language": "python",
   "name": "satimagery"
  },
  "language_info": {
   "codemirror_mode": {
    "name": "ipython",
    "version": 3
   },
   "file_extension": ".py",
   "mimetype": "text/x-python",
   "name": "python",
   "nbconvert_exporter": "python",
   "pygments_lexer": "ipython3",
   "version": "3.8.18"
  }
 },
 "nbformat": 4,
 "nbformat_minor": 5
}
